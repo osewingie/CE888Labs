{
 "cells": [
  {
   "cell_type": "code",
   "execution_count": 2,
   "metadata": {},
   "outputs": [],
   "source": [
    "import pandas as pd\n",
    "import numpy as np\n",
    "np.set_printoptions(precision = 3)"
   ]
  },
  {
   "cell_type": "markdown",
   "metadata": {},
   "source": [
    " Reading the data and droping the first column"
   ]
  },
  {
   "cell_type": "code",
   "execution_count": 3,
   "metadata": {},
   "outputs": [
    {
     "data": {
      "text/plain": [
       "(24983, 100)"
      ]
     },
     "execution_count": 3,
     "metadata": {},
     "output_type": "execute_result"
    }
   ],
   "source": [
    "myData = pd.read_csv(\"jester-data-1.csv\" ,header=None)\n",
    "myData = myData.drop(0,axis=1)\n",
    "myData.shape"
   ]
  },
  {
   "cell_type": "markdown",
   "metadata": {},
   "source": [
    " it will Take long time to process all data so I will use only first 30 rows of the data set "
   ]
  },
  {
   "cell_type": "code",
   "execution_count": 4,
   "metadata": {},
   "outputs": [
    {
     "data": {
      "text/plain": [
       "(30, 100)"
      ]
     },
     "execution_count": 4,
     "metadata": {},
     "output_type": "execute_result"
    }
   ],
   "source": [
    "myData_Partial = myData.head(30)\n",
    "myData_Partial.shape"
   ]
  },
  {
   "cell_type": "code",
   "execution_count": 5,
   "metadata": {},
   "outputs": [
    {
     "data": {
      "text/html": [
       "<div>\n",
       "<style scoped>\n",
       "    .dataframe tbody tr th:only-of-type {\n",
       "        vertical-align: middle;\n",
       "    }\n",
       "\n",
       "    .dataframe tbody tr th {\n",
       "        vertical-align: top;\n",
       "    }\n",
       "\n",
       "    .dataframe thead th {\n",
       "        text-align: right;\n",
       "    }\n",
       "</style>\n",
       "<table border=\"1\" class=\"dataframe\">\n",
       "  <thead>\n",
       "    <tr style=\"text-align: right;\">\n",
       "      <th></th>\n",
       "      <th>1</th>\n",
       "      <th>2</th>\n",
       "      <th>3</th>\n",
       "      <th>4</th>\n",
       "      <th>5</th>\n",
       "      <th>6</th>\n",
       "      <th>7</th>\n",
       "      <th>8</th>\n",
       "      <th>9</th>\n",
       "      <th>10</th>\n",
       "      <th>...</th>\n",
       "      <th>91</th>\n",
       "      <th>92</th>\n",
       "      <th>93</th>\n",
       "      <th>94</th>\n",
       "      <th>95</th>\n",
       "      <th>96</th>\n",
       "      <th>97</th>\n",
       "      <th>98</th>\n",
       "      <th>99</th>\n",
       "      <th>100</th>\n",
       "    </tr>\n",
       "  </thead>\n",
       "  <tbody>\n",
       "    <tr>\n",
       "      <th>0</th>\n",
       "      <td>-7.82</td>\n",
       "      <td>8.79</td>\n",
       "      <td>-9.66</td>\n",
       "      <td>-8.16</td>\n",
       "      <td>-7.52</td>\n",
       "      <td>-8.50</td>\n",
       "      <td>-9.85</td>\n",
       "      <td>4.17</td>\n",
       "      <td>-8.98</td>\n",
       "      <td>-4.76</td>\n",
       "      <td>...</td>\n",
       "      <td>2.82</td>\n",
       "      <td>99.00</td>\n",
       "      <td>99.00</td>\n",
       "      <td>99.00</td>\n",
       "      <td>99.00</td>\n",
       "      <td>99.00</td>\n",
       "      <td>-5.63</td>\n",
       "      <td>99.00</td>\n",
       "      <td>99.00</td>\n",
       "      <td>99.00</td>\n",
       "    </tr>\n",
       "    <tr>\n",
       "      <th>1</th>\n",
       "      <td>4.08</td>\n",
       "      <td>-0.29</td>\n",
       "      <td>6.36</td>\n",
       "      <td>4.37</td>\n",
       "      <td>-2.38</td>\n",
       "      <td>-9.66</td>\n",
       "      <td>-0.73</td>\n",
       "      <td>-5.34</td>\n",
       "      <td>8.88</td>\n",
       "      <td>9.22</td>\n",
       "      <td>...</td>\n",
       "      <td>2.82</td>\n",
       "      <td>-4.95</td>\n",
       "      <td>-0.29</td>\n",
       "      <td>7.86</td>\n",
       "      <td>-0.19</td>\n",
       "      <td>-2.14</td>\n",
       "      <td>3.06</td>\n",
       "      <td>0.34</td>\n",
       "      <td>-4.32</td>\n",
       "      <td>1.07</td>\n",
       "    </tr>\n",
       "    <tr>\n",
       "      <th>2</th>\n",
       "      <td>99.00</td>\n",
       "      <td>99.00</td>\n",
       "      <td>99.00</td>\n",
       "      <td>99.00</td>\n",
       "      <td>9.03</td>\n",
       "      <td>9.27</td>\n",
       "      <td>9.03</td>\n",
       "      <td>9.27</td>\n",
       "      <td>99.00</td>\n",
       "      <td>99.00</td>\n",
       "      <td>...</td>\n",
       "      <td>99.00</td>\n",
       "      <td>99.00</td>\n",
       "      <td>99.00</td>\n",
       "      <td>9.08</td>\n",
       "      <td>99.00</td>\n",
       "      <td>99.00</td>\n",
       "      <td>99.00</td>\n",
       "      <td>99.00</td>\n",
       "      <td>99.00</td>\n",
       "      <td>99.00</td>\n",
       "    </tr>\n",
       "  </tbody>\n",
       "</table>\n",
       "<p>3 rows × 100 columns</p>\n",
       "</div>"
      ],
      "text/plain": [
       "     1      2      3      4     5     6     7     8      9      10   ...    \\\n",
       "0  -7.82   8.79  -9.66  -8.16 -7.52 -8.50 -9.85  4.17  -8.98  -4.76  ...     \n",
       "1   4.08  -0.29   6.36   4.37 -2.38 -9.66 -0.73 -5.34   8.88   9.22  ...     \n",
       "2  99.00  99.00  99.00  99.00  9.03  9.27  9.03  9.27  99.00  99.00  ...     \n",
       "\n",
       "     91     92     93     94     95     96     97     98     99     100  \n",
       "0   2.82  99.00  99.00  99.00  99.00  99.00  -5.63  99.00  99.00  99.00  \n",
       "1   2.82  -4.95  -0.29   7.86  -0.19  -2.14   3.06   0.34  -4.32   1.07  \n",
       "2  99.00  99.00  99.00   9.08  99.00  99.00  99.00  99.00  99.00  99.00  \n",
       "\n",
       "[3 rows x 100 columns]"
      ]
     },
     "execution_count": 5,
     "metadata": {},
     "output_type": "execute_result"
    }
   ],
   "source": [
    "myData.head(3)"
   ]
  },
  {
   "cell_type": "markdown",
   "metadata": {},
   "source": [
    "Initializing the hyperparameter "
   ]
  },
  {
   "cell_type": "code",
   "execution_count": 22,
   "metadata": {},
   "outputs": [],
   "source": [
    "alpha = 0.001\n",
    "n_latent = 2\n",
    "n_iterations = 30\n",
    "n_Folds=10"
   ]
  },
  {
   "cell_type": "markdown",
   "metadata": {},
   "source": [
    "initializing the latent arrays "
   ]
  },
  {
   "cell_type": "code",
   "execution_count": 23,
   "metadata": {},
   "outputs": [],
   "source": [
    "latent_users = np.random.random((myData_Partial.shape[0], n_latent))\n",
    "latent_items = np.random.random((myData_Partial.shape[1], n_latent))"
   ]
  },
  {
   "cell_type": "markdown",
   "metadata": {},
   "source": [
    "getting not nan indeies "
   ]
  },
  {
   "cell_type": "code",
   "execution_count": 24,
   "metadata": {},
   "outputs": [
    {
     "data": {
      "text/plain": [
       "(2167, 2)"
      ]
     },
     "execution_count": 24,
     "metadata": {},
     "output_type": "execute_result"
    }
   ],
   "source": [
    "not_Nan_Inds = np.argwhere(np.not_equal(myData_Partial.values,99.0))\n",
    "np.random.shuffle(not_Nan_Inds)\n",
    "not_Nan_Inds.shape"
   ]
  },
  {
   "cell_type": "markdown",
   "metadata": {},
   "source": [
    "Splitting the not nan indecies into n folds"
   ]
  },
  {
   "cell_type": "code",
   "execution_count": 25,
   "metadata": {},
   "outputs": [
    {
     "name": "stdout",
     "output_type": "stream",
     "text": [
      "(217, 2)\n",
      "(217, 2)\n",
      "(217, 2)\n",
      "(217, 2)\n",
      "(217, 2)\n",
      "(217, 2)\n",
      "(217, 2)\n",
      "(216, 2)\n",
      "(216, 2)\n",
      "(216, 2)\n"
     ]
    }
   ],
   "source": [
    "not_Nan_Inds_Splitted = np.array(np.array_split(not_Nan_Inds,n_Folds))\n",
    "for i in not_Nan_Inds_Splitted:\n",
    "    print(i.shape)"
   ]
  },
  {
   "cell_type": "code",
   "execution_count": 26,
   "metadata": {},
   "outputs": [],
   "source": [
    "def predict_rating(user_id,item_id,latent_users,latent_items):\n",
    "    \"\"\" Predict a rating given a user_id and an item_id.\n",
    "    \"\"\"\n",
    "    user_preference = latent_users[user_id]\n",
    "    item_preference = latent_items[item_id]\n",
    "    return user_preference.dot(item_preference)\n",
    "\n",
    "def train(user_id, item_id, rating,latent_users,latent_items,alpha = 0.0001):\n",
    "    #print item_id\n",
    "    prediction_rating = predict_rating(user_id, item_id,latent_users,latent_items)\n",
    "    err =  ( prediction_rating- rating );\n",
    "    #print err\n",
    "    user_pref_values = latent_users[user_id][:]\n",
    "    latent_users[user_id] -= alpha * err * latent_items[item_id]\n",
    "    latent_items[item_id] -= alpha * err * user_pref_values\n",
    "    return err,latent_users,latent_items\n",
    "\n",
    "\n",
    "def test(foldNum):\n",
    "    # this function is calculating the mean square error for the testing fold \n",
    "    MSE = 0;\n",
    "    errs=[]\n",
    "    for i,j in not_Nan_Inds_Splitted[foldNum]:\n",
    "        err= myData.values[i][j] - predict_rating(i,j,latent_users,latent_items)\n",
    "        errs.append(err)\n",
    "    MSE = (np.array(errs) ** 2).mean()\n",
    "    return MSE\n",
    "        \n",
    "    \n",
    "\n",
    "def sgdKfolds():\n",
    "    # 1-D array storing the testing mean square error for each fold\n",
    "    TestingMSEs=[]\n",
    "    # 2-D array storing the training mean square error for each fold and fold iteration \n",
    "    TrainingMSE=[]\n",
    "    for foldsIteration in range(0,n_Folds):   # loop for all folds n fold times \n",
    "        #print(\"fold iteration \",foldsIteration)\n",
    "        # resetting the latent arrays \n",
    "        latent_users = np.random.random((myData_Partial.shape[0], n_latent))\n",
    "        latent_items = np.random.random((myData_Partial.shape[1], n_latent))\n",
    "        iterationMSES = []\n",
    "        for iteration in range(0,n_iterations): \n",
    "            currentFold=0  # this variable is an index. I used it for checking the test fold \n",
    "            iterationE=[]\n",
    "            for IndArray in not_Nan_Inds_Splitted:\n",
    "                if(currentFold == foldsIteration):   # check if this fold is the one which you mark as a testing fold Test for other folds\n",
    "                    currentFold = currentFold+1  \n",
    "                    continue\n",
    "                currentFold = currentFold+1\n",
    "                for i,j in IndArray:        \n",
    "                    rating = myData_Partial.values[i][j]\n",
    "                    e,latent_users,latent_items=train(i,j,rating,latent_users,latent_items,alpha)\n",
    "                    iterationE.append(e)\n",
    "            iterationMSE= (np.array(iterationE) ** 2).mean()\n",
    "            #print(\"iteration \",iteration,\"of fold number \",foldsIteration,\" has training error = \",iterationMSE)\n",
    "            iterationMSES.append(iterationMSE)\n",
    "        TrainingMSE.append(iterationMSES)\n",
    "        mse = test(foldsIteration)\n",
    "        TestingMSEs.append(mse)\n",
    "        print(\"Testing MSE for folds iteration number \",foldsIteration + 1,\"  = \" , mse)\n",
    "    AvgTestingError = np.mean(TestingMSEs)\n",
    "    print(\"Avarage Testing mean square Error = \",AvgTestingError)\n",
    "    return TestingMSEs,TrainingMSE,AvgTestingError\n",
    "    "
   ]
  },
  {
   "cell_type": "code",
   "execution_count": 27,
   "metadata": {},
   "outputs": [
    {
     "name": "stdout",
     "output_type": "stream",
     "text": [
      "Testing MSE for folds iteration number  1   =  26.13430630109006\n",
      "Testing MSE for folds iteration number  2   =  30.462281242897753\n",
      "Testing MSE for folds iteration number  3   =  29.662435488444267\n",
      "Testing MSE for folds iteration number  4   =  26.52210076863233\n",
      "Testing MSE for folds iteration number  5   =  27.345815412860272\n",
      "Testing MSE for folds iteration number  6   =  27.825894346487306\n",
      "Testing MSE for folds iteration number  7   =  28.58649728497819\n",
      "Testing MSE for folds iteration number  8   =  25.813323353122215\n",
      "Testing MSE for folds iteration number  9   =  26.74836112906037\n",
      "Testing MSE for folds iteration number  10   =  27.978753695134284\n",
      "Avarage Testing mean square Error =  27.70797690227071\n"
     ]
    }
   ],
   "source": [
    "TestingMSE , TrainingMSE , Avg = sgdKfolds()"
   ]
  },
  {
   "cell_type": "markdown",
   "metadata": {},
   "source": [
    "Plotting the testing error "
   ]
  },
  {
   "cell_type": "code",
   "execution_count": 37,
   "metadata": {},
   "outputs": [
    {
     "data": {
      "image/png": "[encoded data removed]",
      "text/plain": [
       "<Figure size 432x288 with 1 Axes>"
      ]
     },
     "metadata": {},
     "output_type": "display_data"
    }
   ],
   "source": [
    "import matplotlib.pyplot as plt \n",
    "plt.plot(TestingMSE)\n",
    "plt.xlabel(\"Fold iteration\")\n",
    "plt.ylabel(\"MSE\")\n",
    "plt.show()"
   ]
  },
  {
   "cell_type": "code",
   "execution_count": 57,
   "metadata": {},
   "outputs": [
    {
     "data": {
      "image/png": "[encoded data removed]",
      "text/plain": [
       "<Figure size 432x288 with 1 Axes>"
      ]
     },
     "metadata": {},
     "output_type": "display_data"
    }
   ],
   "source": [
    "d=\"fold\"\n",
    "for i in range(0,n_Folds):\n",
    "    plt.plot(TrainingMSE[i],label=(\"fold iteration \" + str(i+1)))\n",
    "plt.xlabel(\"iteration\")\n",
    "plt.ylabel(\"Training MSE\")\n",
    "plt.legend()\n",
    "plt.show()"
   ]
  },
  {
   "cell_type": "code",
   "execution_count": null,
   "metadata": {},
   "outputs": [],
   "source": []
  },
  {
   "cell_type": "code",
   "execution_count": null,
   "metadata": {},
   "outputs": [],
   "source": []
  },
  {
   "cell_type": "code",
   "execution_count": null,
   "metadata": {},
   "outputs": [],
   "source": []
  }
 ],
 "metadata": {
  "kernelspec": {
   "display_name": "Python 3",
   "language": "python",
   "name": "python3"
  },
  "language_info": {
   "codemirror_mode": {
    "name": "ipython",
    "version": 3
   },
   "file_extension": ".py",
   "mimetype": "text/x-python",
   "name": "python",
   "nbconvert_exporter": "python",
   "pygments_lexer": "ipython3",
   "version": "3.6.5"
  }
 },
 "nbformat": 4,
 "nbformat_minor": 2
}
